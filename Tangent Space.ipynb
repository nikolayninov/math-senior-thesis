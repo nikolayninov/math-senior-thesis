{
 "cells": [
  {
   "cell_type": "markdown",
   "id": "c92d0cb3-e3f7-468d-bf14-ceb76e45008a",
   "metadata": {},
   "source": [
    "# "
   ]
  },
  {
   "cell_type": "code",
   "execution_count": 3,
   "id": "9eea6ff9-ac40-403a-a526-4e3fb709d704",
   "metadata": {},
   "outputs": [],
   "source": [
    "import numpy as np"
   ]
  },
  {
   "cell_type": "code",
   "execution_count": 4,
   "id": "455b8912-8433-4a99-a9e5-b3003c5488fe",
   "metadata": {},
   "outputs": [],
   "source": [
    "n = 4\n",
    "k = 2"
   ]
  },
  {
   "cell_type": "code",
   "execution_count": 12,
   "id": "8ec07304-1f9b-4977-ba0c-06f9b47c0b63",
   "metadata": {},
   "outputs": [
    {
     "data": {
      "text/plain": [
       "-5.551115123125783e-17"
      ]
     },
     "execution_count": 12,
     "metadata": {},
     "output_type": "execute_result"
    }
   ],
   "source": [
    "A, _, _ = np.linalg.svd(np.random.uniform(size=(n, k)))\n",
    "A = A[:, :k]\n",
    "A[:,0] @ A[:,1]"
   ]
  },
  {
   "cell_type": "code",
   "execution_count": 27,
   "id": "e2280ee8-d613-4397-a47b-7ba13ee9f48f",
   "metadata": {},
   "outputs": [],
   "source": [
    "A = np.zeros((n,k))\n",
    "A[0,0]=1\n",
    "A[1,1]=1"
   ]
  },
  {
   "cell_type": "code",
   "execution_count": 29,
   "id": "d316ef72-e5b9-4908-9853-fac631f2afe4",
   "metadata": {},
   "outputs": [],
   "source": [
    "def T_A(A):\n",
    "    k = A.shape[1]\n",
    "    A_p,_,_ = np.linalg.svd(A)\n",
    "    A_p = A_p[:, k:]\n",
    "    B = []\n",
    "    for i in range((n-k)*k):\n",
    "        b_i = np.zeros((n-k,k))\n",
    "        b_i[i//k, i%k] = 1\n",
    "        B.append(b_i)\n",
    "\n",
    "\n",
    "    C = []\n",
    "    for i in range(k):\n",
    "        for j in range(k):\n",
    "            if i < j:\n",
    "                c = np.zeros((k,k))\n",
    "                c[i,j] = 1\n",
    "                c[j,i] = -1\n",
    "                C.append(c)      \n",
    "\n",
    "    TB = []\n",
    "    for b in B:\n",
    "        TB.append(np.matmul(A,np.zeros((k,k)))+np.matmul(A_p, b))\n",
    "    for c in C:\n",
    "        TB.append(np.matmul(A,c)+np.matmul(A_p, np.zeros((n-k,k))))\n",
    "    return C,B,TB, A_p"
   ]
  },
  {
   "cell_type": "code",
   "execution_count": 30,
   "id": "8756b0c8-b25e-4189-a9a0-7f244fe3bbf4",
   "metadata": {},
   "outputs": [],
   "source": [
    "C,B,TB, A_p = T_A(A)"
   ]
  },
  {
   "cell_type": "code",
   "execution_count": 31,
   "id": "3646c3ac-d1c0-456e-933f-55893722097f",
   "metadata": {},
   "outputs": [
    {
     "name": "stdout",
     "output_type": "stream",
     "text": [
      "[[0. 0.]\n",
      " [0. 0.]]\n",
      "[[0. 0.]\n",
      " [0. 0.]]\n",
      "[[0. 0.]\n",
      " [0. 0.]]\n",
      "[[0. 0.]\n",
      " [0. 0.]]\n",
      "[[0. 0.]\n",
      " [0. 0.]]\n"
     ]
    }
   ],
   "source": [
    "for b in TB:\n",
    "    print(((np.matmul(b.T,A)+np.matmul(A.T,b))>1e-8).astype('float'))"
   ]
  },
  {
   "cell_type": "code",
   "execution_count": 32,
   "id": "4a4f7e3c-5472-46a0-ad44-f823487e9363",
   "metadata": {},
   "outputs": [
    {
     "data": {
      "text/plain": [
       "[array([[ 0.,  1.],\n",
       "        [-1.,  0.]])]"
      ]
     },
     "execution_count": 32,
     "metadata": {},
     "output_type": "execute_result"
    }
   ],
   "source": [
    "C"
   ]
  },
  {
   "cell_type": "code",
   "execution_count": 33,
   "id": "6dd845d1-39f3-419d-b55c-82e411f4eb0b",
   "metadata": {},
   "outputs": [
    {
     "name": "stdout",
     "output_type": "stream",
     "text": [
      "[[0. 0.]\n",
      " [0. 0.]\n",
      " [1. 0.]\n",
      " [0. 0.]]\n",
      "[[0. 0.]\n",
      " [0. 0.]\n",
      " [0. 1.]\n",
      " [0. 0.]]\n",
      "[[0. 0.]\n",
      " [0. 0.]\n",
      " [0. 0.]\n",
      " [1. 0.]]\n",
      "[[0. 0.]\n",
      " [0. 0.]\n",
      " [0. 0.]\n",
      " [0. 1.]]\n",
      "[[ 0.  1.]\n",
      " [-1.  0.]\n",
      " [ 0.  0.]\n",
      " [ 0.  0.]]\n"
     ]
    }
   ],
   "source": [
    "for b in TB:\n",
    "    print(b)"
   ]
  },
  {
   "cell_type": "code",
   "execution_count": 34,
   "id": "55c3ae1f-dd74-4ad9-a76f-393ca2d038e3",
   "metadata": {},
   "outputs": [
    {
     "name": "stdout",
     "output_type": "stream",
     "text": [
      "5\n",
      "5\n"
     ]
    }
   ],
   "source": [
    "print(len(TB))\n",
    "print(int(k*(k-1)/2+(n-k)*k))"
   ]
  },
  {
   "cell_type": "code",
   "execution_count": null,
   "id": "01f8c866-29c7-4c9b-b37d-de0a06a1570e",
   "metadata": {},
   "outputs": [],
   "source": []
  },
  {
   "cell_type": "code",
   "execution_count": 22,
   "id": "b4dbd26b-3cfb-47c6-8d18-a91741b688ba",
   "metadata": {},
   "outputs": [
    {
     "data": {
      "text/plain": [
       "(array([[-0.14304736,  0.10261944],\n",
       "        [-0.22737197, -0.17018496],\n",
       "        [-0.86107241, -0.41683796],\n",
       "        [-0.43173342,  0.88699067]]),\n",
       " array([[-0.72411366, -0.6668329 ],\n",
       "        [-0.63818129,  0.71558627],\n",
       "        [ 0.2494282 , -0.15028639],\n",
       "        [ 0.07854696,  0.14381996]]))"
      ]
     },
     "execution_count": 22,
     "metadata": {},
     "output_type": "execute_result"
    }
   ],
   "source": [
    "A, A_p"
   ]
  }
 ],
 "metadata": {
  "kernelspec": {
   "display_name": "Python 3 (ipykernel)",
   "language": "python",
   "name": "python3"
  },
  "language_info": {
   "codemirror_mode": {
    "name": "ipython",
    "version": 3
   },
   "file_extension": ".py",
   "mimetype": "text/x-python",
   "name": "python",
   "nbconvert_exporter": "python",
   "pygments_lexer": "ipython3",
   "version": "3.10.10"
  }
 },
 "nbformat": 4,
 "nbformat_minor": 5
}
